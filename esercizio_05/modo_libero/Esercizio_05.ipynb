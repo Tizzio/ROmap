{
 "cells": [
  {
   "cell_type": "code",
   "execution_count": null,
   "metadata": {
    "deletable": false,
    "editable": false,
    "init_cell": true,
    "jupyter": {
     "source_hidden": true
    },
    "tags": [
     "run_start"
    ]
   },
   "outputs": [],
   "source": [
    "import os\n",
    "from IPython.core.display import display, HTML, Markdown, clear_output, Javascript\n",
    "import ipywidgets as widgets\n",
    "from IPython.display import IFrame, display\n"
   ]
  },
  {
   "cell_type": "code",
   "execution_count": null,
   "metadata": {
    "init_cell": true
   },
   "outputs": [],
   "source": [
    "from IPython.core.display import Javascript\n",
    "from IPython.display import display\n",
    "\n",
    "HTML('''<button id=\"do_run_sel\">Avvio esercizio</button>\n",
    "<script type=\"text/javascript\">\n",
    "    window.findCellIndicesByTag = function findCellIndicesByTag(tagName) {\n",
    "      return (IPython.notebook.get_cells()\n",
    "        .filter(\n",
    "          ({metadata: {tags}}) => tags && tags.includes(tagName)\n",
    "        )\n",
    "        .map((cell) => IPython.notebook.find_cell_index(cell))\n",
    "      );\n",
    "    };\n",
    "\n",
    "    window.runStartCells = function runStartCells() {\n",
    "        var c = window.findCellIndicesByTag('run_start');\n",
    "        IPython.notebook.execute_cells(c);\n",
    "    };\n",
    "\n",
    "    var button1 = document.getElementById('do_run_sel')\n",
    "    button1.addEventListener('click', window.runStartCells);\n",
    "\n",
    "</script>''')\n"
   ]
  },
  {
   "cell_type": "code",
   "execution_count": null,
   "metadata": {
    "deletable": false,
    "editable": false,
    "tags": [
     "run_start"
    ]
   },
   "outputs": [],
   "source": [
    "HTML('''<script>\n",
    "code_show=true;\n",
    "function code_toggle() {\n",
    " if (code_show){\n",
    " $('div.input').hide();\n",
    " } else {\n",
    " $('div.input').show();\n",
    " }\n",
    " code_show = !code_show\n",
    "}\n",
    "$(document).ready(code_toggle);\n",
    "</script>''')\n"
   ]
  },
  {
   "cell_type": "code",
   "execution_count": null,
   "metadata": {
    "deletable": false,
    "editable": false,
    "init_cell": true,
    "tags": [
     "run_start"
    ]
   },
   "outputs": [],
   "source": [
    "import os\n",
    "from IPython.core.display import display, HTML, Markdown, clear_output, Javascript\n",
    "import ipywidgets as widgets\n",
    "from IPython.display import IFrame, display\n",
    "\n",
    "def on_change(change): # si attiva quando cambio scelta dell'elemento da selezionare\n",
    "    global attach\n",
    "    if change['type'] == 'change' and change['name'] == 'value':\n",
    "        #print (\"Stai scegliendo %s\" % change['new'])\n",
    "        attach = change['new']\n",
    "        return attach\n",
    "\n",
    "def on_button_update(_):\n",
    "    clear_output()\n",
    "    #display(Javascript('''var c = IPython.notebook.get_selected_index();\n",
    "                       #IPython.notebook.execute_cells([c])'''))\n",
    "    add_attachment()\n",
    "\n",
    "def open_attachment(attach_name):\n",
    "    path_attachments = \"allegati\"\n",
    "    path_file=str(path_attachments + \"/\" + attach_name)\n",
    "    ext = os.path.splitext(path_file)[-1].lower()\n",
    "    #print(path_file)\n",
    "    #print(ext)\n",
    "    #print(ext.replace('.', ''))\n",
    "    if(ext=='.pdf'):\n",
    "        pdf=IFrame(path_file, width=700, height=400)\n",
    "        display(pdf)\n",
    "    else:\n",
    "        #file = open(path_file, \"rb\")\n",
    "        display(Markdown(\"![alt text](\" + path_file + \")\"))\n",
    "        delete = widgets.Button(description='Rimuovi allegato')\n",
    "        delete.on_click(on_button_delete)\n",
    "        display(delete)\n",
    "\n",
    "        #image = file.read()\n",
    "        #w=widgets.Image(\n",
    "        #    value=image,\n",
    "        #    format=ext.replace('.', ''),\n",
    "        #    width=300,\n",
    "        #    height=400,\n",
    "        #)\n",
    "        #display(w)\n",
    "\n",
    "def on_button_confirm(_):\n",
    "    global attach\n",
    "    clear_output()\n",
    "    print('Allegato: ' + str(attach))\n",
    "    open_attachment(attach)\n",
    "\n",
    "def add_attachment():\n",
    "    path_attachments = \"allegati\"\n",
    "    global attach # allegato attuale scelto\n",
    "    update = widgets.Button(description='Aggiorna') #bottone visualizzato in ogni caso\n",
    "    delete = widgets.Button(description='Rimuovi allegato')\n",
    "    attach_list = os.listdir(path_attachments)\n",
    "\n",
    "    if(attach_list): #si attiva se c'è almeno un elemento in lista quindi nella cartella allegati\n",
    "        confirm = widgets.Button(description='Conferma')\n",
    "        chosen_attach_wid = widgets.Dropdown(\n",
    "            options = attach_list,\n",
    "            value = attach_list[0],\n",
    "            description = 'Allegati:',\n",
    "            disabled = False,\n",
    "        )\n",
    "        attach = attach_list[0]\n",
    "        chosen_attach_wid.observe(on_change)\n",
    "        update.on_click(on_button_update)\n",
    "        confirm.on_click(on_button_confirm)\n",
    "        delete.on_click(on_button_delete)\n",
    "        all_buttons = [update, chosen_attach_wid, confirm, delete]\n",
    "        display(widgets.HBox(all_buttons))\n",
    "    else:\n",
    "        print(\"ATTENZIONE: non sono presenti file nella cartella allegati\")\n",
    "        update.on_click(on_button_update)\n",
    "        delete.on_click(on_button_delete)\n",
    "        all_buttons = [update, delete]\n",
    "        display(widgets.HBox(all_buttons))\n",
    "\n",
    "def on_button_delete(_):\n",
    "    #delete_above_cell()\n",
    "    delete_this_cell()\n",
    "\n",
    "def delete_above_cell():\n",
    "    display(Javascript('''var c = IPython.notebook.get_selected_index();\n",
    "                                IPython.notebook.get_cell(c-1).metadata.editable = true;\n",
    "                                IPython.notebook.get_cell(c-1).metadata.deletable = true;\n",
    "                                IPython.notebook.delete_cell([c-1]);'''))\n",
    "def delete_this_cell():\n",
    "    display(Javascript('''var c = IPython.notebook.get_selected_index();\n",
    "                                IPython.notebook.get_cell(c).metadata.editable = true;\n",
    "                                IPython.notebook.get_cell(c).metadata.deletable = true;\n",
    "                                IPython.notebook.delete_cell([c]);'''))\n",
    "\n",
    "def on_button_raw_attach(_):\n",
    "    add_attach_cell_din('add_attachment()')\n",
    "\n",
    "def on_button_md(_):\n",
    "    add_md_cell_din()\n",
    "\n",
    "def on_button_code(_):\n",
    "    add_code_cell_din()\n",
    "\n",
    "def on_button_raw(_):\n",
    "    add_raw_cell_din()\n",
    "\n",
    "def add_raw_cell_din():\n",
    "    display_id = int(time.time()*1e9) # Hack\n",
    "    display(Javascript('''var idx = IPython.notebook.get_selected_index();\n",
    "                       var c = IPython.notebook.insert_cell_at_index(\"raw\", idx);\n",
    "    c.set_text('');\n",
    "    var t_index = IPython.notebook.get_cells().indexOf(c);\n",
    "    IPython.notebook.to_raw(t_index);\n",
    "    IPython.notebook.get_cell(t_index).render();\n",
    "    IPython.notebook.get_cell(t_index).metadata.deletable = true;\n",
    "    IPython.notebook.get_cell(t_index).set_text('');;'''),display_id=display_id) # Hack\n",
    "    # Necessary hack to avoid self-generation of cells at notebook re-opening\n",
    "    # See http://tiny.cc/fnf3nz\n",
    "    display(Javascript(\"\"\" \"\"\"), display_id=display_id, update=True)\n",
    "    return\n",
    "\n",
    "def add_attach_cell_din(code = ''):\n",
    "    display_id = int(time.time()*1e9) # Hack\n",
    "    display(Javascript('''var c = IPython.notebook.insert_cell_above();\n",
    "    c.set_text(' ''' + code + ''' ');\n",
    "    var t_index = IPython.notebook.get_cells().indexOf(c);\n",
    "    IPython.notebook.to_code(t_index);\n",
    "    IPython.notebook.get_cell(t_index).render();\n",
    "    IPython.notebook.execute_cells([t_index]);\n",
    "    IPython.notebook.get_cell(t_index).metadata.editable = false;'''),display_id=display_id) # Hack\n",
    "    # Necessary hack to avoid self-generation of cells at notebook re-opening\n",
    "    # See http://tiny.cc/fnf3nz\n",
    "    display(Javascript(\"\"\" \"\"\"), display_id=display_id, update=True)\n",
    "    return\n",
    "\n",
    "def add_code_cell_din(code = ''):\n",
    "    display_id = int(time.time()*1e9)\n",
    "    display(Javascript('''var c = IPython.notebook.insert_cell_above();\n",
    "    c.set_text(' ''' + code + ''' ');\n",
    "    var t_index = IPython.notebook.get_cells().indexOf(c);\n",
    "    IPython.notebook.to_code(t_index);\n",
    "    IPython.notebook.get_cell(t_index).render();\n",
    "    IPython.notebook.execute_cells([t_index]);\n",
    "    IPython.notebook.get_cell(t_index).metadata.deletable = true;\n",
    "    IPython.notebook.get_cell(t_index).set_text('');'''),display_id=display_id)\n",
    "    # Necessary hack to avoid self-generation of cells at notebook re-opening\n",
    "    # See http://tiny.cc/fnf3nz\n",
    "    display(Javascript(\"\"\" \"\"\"), display_id=display_id, update=True)\n",
    "    return\n",
    "\n",
    "def add_md_cell_din():\n",
    "    display_id = int(time.time()*1e9)\n",
    "    display(Javascript('''var c = IPython.notebook.insert_cell_above();\n",
    "    c.set_text(' ');\n",
    "    var t_index = IPython.notebook.get_cells().indexOf(c);\n",
    "    IPython.notebook.to_markdown(t_index);\n",
    "    IPython.notebook.get_cell(t_index).render();\n",
    "    IPython.notebook.get_cell(t_index).metadata.deletable = true;\n",
    "    IPython.notebook.get_cell(t_index).set_text('');'''),display_id=display_id) # Hack\n",
    "    # Necessary hack to avoid self-generation of cells at notebook re-opening\n",
    "    # See http://tiny.cc/fnf3nz\n",
    "    display(Javascript(\"\"\" \"\"\"), display_id=display_id, update=True)\n",
    "    return\n",
    "\n",
    "def add_cell(code='', position='below', celltype='markdown', is_execute = False):\n",
    "    \"\"\"Create a cell in the IPython Notebook.\n",
    "    code: unicode, Code to fill the new cell with.\n",
    "    celltype: unicode, Type of cells \"code\" or \"markdown\".\n",
    "    position: unicode, Where to put the cell \"below\" or \"at_bottom\"\n",
    "    is_execute: boolean, To decide if the cell is executed after creation\n",
    "    \"\"\"\n",
    "\n",
    "    # Create a unique id based on epoch time\n",
    "    display_id = int(time.time()*1e9)\n",
    "\n",
    "    if is_execute:\n",
    "        display(Javascript(\"\"\"\n",
    "        var basis = IPython.notebook.insert_cell_{0}(\"{1}\");\n",
    "        basis.set_text(atob(\"{2}\"));\n",
    "        basis.execute();\n",
    "        \"\"\".format(position, celltype, \" \")),display_id=display_id)\n",
    "\n",
    "    else:\n",
    "        display(Javascript(\"\"\"\n",
    "        var basis = IPython.notebook.insert_cell_{0}(\"{1}\");\n",
    "        basis.set_text(atob(\"{2}\"));\n",
    "        \"\"\".format(position, celltype, \" \")),display_id=display_id)\n",
    "\n",
    "\n",
    "    # Necessary hack to avoid self-generation of cells at notebook re-opening\n",
    "    # See http://tiny.cc/fnf3nz\n",
    "    display(Javascript(\"\"\" \"\"\"), display_id=display_id, update=True)\n",
    "\n",
    "def code_button_delete():\n",
    "    button_delete = widgets.Button(description=\"Rimuovi l'allegato\", tooltip=\"Seleziona la cella e clicca su Elimina\")\n",
    "    button_delete.on_click(on_button_delete)\n",
    "    #print(\"Vuoi eliminare la cella selezionata?\")\n",
    "    display(button_delete)\n",
    "\n",
    "def loader_main():\n",
    "    button_raw_attach = widgets.Button(description=\"Rispondi (Allegato)\", tooltip=\"Collega un file dalla cartella attachments\")\n",
    "    button_md = widgets.Button(description=\"Rispondi (Markdown)\", abstooltip=\"Aggiungi una cella per scrivere del testo in Markdown\")\n",
    "    button_code = widgets.Button(description=\"Rispondi (Code)\", tooltip=\"Aggiungi una cella per scrivere del codice in Python\")\n",
    "    button_raw = widgets.Button(description=\"Rispondi (Raw)\", tooltip=\"Aggiungi una cella per scrivere del testo libero (SCONSIGLIATA)\")\n",
    "    button_raw_attach.on_click(on_button_raw_attach)\n",
    "    button_md.on_click(on_button_md)\n",
    "    button_code.on_click(on_button_code)\n",
    "    button_raw.on_click(on_button_raw)\n",
    "\n",
    "    all_buttons = [button_code, button_md, button_raw, button_raw_attach]\n",
    "    display(widgets.HBox(all_buttons))\n"
   ]
  },
  {
   "cell_type": "markdown",
   "metadata": {
    "deletable": false,
    "editable": false,
    "init_cell": true,
    "tags": [
     "run_start"
    ]
   },
   "source": [
    "# ESERCIZIO: Flusso massimo in una rete #\n"
   ]
  },
  {
   "cell_type": "markdown",
   "metadata": {
    "deletable": false,
    "editable": false,
    "init_cell": true
   },
   "source": [
    "Si consideri il grafo $G$, con pesi sugli archi, riportato in figura:<br><img src='img/grafo_plan5_pesi.png' width=800>"
   ]
  },
  {
   "cell_type": "markdown",
   "metadata": {
    "deletable": false,
    "editable": false,
    "init_cell": true,
    "tags": [
     "run_start"
    ]
   },
   "source": [
    "__Richiesta 1 \\[50 punti\\]__: Fornire un massimo flusso dal nodo $s$ al nodo $t$"
   ]
  },
  {
   "cell_type": "code",
   "execution_count": null,
   "metadata": {
    "deletable": false,
    "editable": false,
    "init_cell": true,
    "tags": [
     "run_start"
    ]
   },
   "outputs": [],
   "source": [
    "loader_main()\n"
   ]
  },
  {
   "cell_type": "markdown",
   "metadata": {
    "deletable": false,
    "editable": false,
    "init_cell": true,
    "tags": [
     "run_start"
    ]
   },
   "source": [
    "__Richiesta 2 \\[30 punti\\]__: Certificare l'ottimalità del flusso massimo dal nodo $s$ al nodo $t$"
   ]
  },
  {
   "cell_type": "code",
   "execution_count": null,
   "metadata": {
    "deletable": false,
    "editable": false,
    "init_cell": true,
    "tags": [
     "run_start"
    ]
   },
   "outputs": [],
   "source": [
    "loader_main()\n"
   ]
  },
  {
   "cell_type": "markdown",
   "metadata": {
    "deletable": false,
    "editable": false,
    "init_cell": true,
    "tags": [
     "run_start"
    ]
   },
   "source": [
    "__Richiesta 3 \\[30 punti\\]__: Per ciascuno dei seguenti tre archi dire, certificandolo, se esso appartenga a tutti, oppure a nessuno, oppure a qualcuno ma non tutti gli $s,t$-tagli di capacità minima: $hi$, $mo$, $wx$"
   ]
  },
  {
   "cell_type": "code",
   "execution_count": null,
   "metadata": {
    "deletable": false,
    "editable": false,
    "init_cell": true,
    "tags": [
     "run_start"
    ]
   },
   "outputs": [],
   "source": [
    "loader_main()\n"
   ]
  },
  {
   "cell_type": "code",
   "execution_count": null,
   "metadata": {
    "deletable": false,
    "editable": false,
    "init_cell": true,
    "tags": [
     "run_start"
    ]
   },
   "outputs": [],
   "source": [
    "import os\n",
    "import time\n",
    "from urllib.request import urlopen\n",
    "import nbformat\n",
    "from traitlets.config import Config\n",
    "from nbconvert import HTMLExporter\n",
    "from nbconvert import RSTExporter, NotebookExporter\n",
    "from IPython.display import Image, HTML, Javascript\n",
    "from datetime import datetime\n",
    "\n",
    "def generate_preview_HTML(_):\n",
    "    display(Javascript('IPython.notebook.save_checkpoint();'))\n",
    "    now = datetime.now() # current date and time\n",
    "    date_time = now.strftime(\"%Y-%m-%d-%H-%M-%S\")\n",
    "    hname = 'Esercizio_05.ipynb'[:-6] + '_' + date_time\n",
    "    ! jupyter nbconvert Esercizio_05.ipynb --to html_embed --output=$hname --output-dir=./preview/ --no-input\n",
    "    display(Javascript('window.open(\"./preview/' + hname + '.html\")'))\n",
    "\n",
    "button = widgets.Button(description=\"Salva & Esporta\", tooltip=\"Esporta il foglio Jupyter in HTML nella cartella preview\")\n",
    "output = widgets.Output()\n",
    "button.on_click(generate_preview_HTML)\n",
    "display(widgets.HBox([button]))\n"
   ]
  }
 ],
 "metadata": {},
 "nbformat": 4,
 "nbformat_minor": 4
}
